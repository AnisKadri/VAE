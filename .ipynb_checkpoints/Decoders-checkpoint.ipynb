{
 "cells": [
  {
   "cell_type": "code",
   "execution_count": 1,
   "id": "39417e97",
   "metadata": {},
   "outputs": [],
   "source": [
    "import torch; torch.manual_seed(0)\n",
    "import torch.nn as nn\n",
    "import torch.nn.functional as F\n",
    "import torch.distributions"
   ]
  },
  {
   "cell_type": "code",
   "execution_count": null,
   "id": "30dfa27c",
   "metadata": {},
   "outputs": [],
   "source": [
    "def lin_size(n, num_layers, first_kernel = None):\n",
    "    \n",
    "    for i in range(1, num_layers+1):\n",
    "        \n",
    "        if i == 1 and first_kernel != None:\n",
    "            n = 1 + ((n - first_kernel) // 2)\n",
    "        else:\n",
    "            n = 1 + ((n - 2) // 2)\n",
    "            \n",
    "    if n <= 0:\n",
    "        raise ValueError(\"Window Length is too small in relation to the number of Layers\")\n",
    "            \n",
    "    return n * 2 * num_layers"
   ]
  },
  {
   "cell_type": "code",
   "execution_count": null,
   "id": "c69b410a",
   "metadata": {},
   "outputs": [],
   "source": [
    "class TCVAE_Decoder(nn.Module):\n",
    "    def __init__(self, input_size, hidden_size, num_layers, latent_dims, L = 30, first_kernel = None):\n",
    "        super(TCVAE_Decoder, self).__init__()  \n",
    "        self.input_size = input_size\n",
    "        \n",
    "        self.n =  lin_size(L, num_layers, first_kernel)\n",
    "        \n",
    "        self.decoder_lin = nn.Linear(latent_dims, self.n * input_size)\n",
    "        \n",
    "        self.cnn_layers = nn.ModulList()\n",
    "        \n",
    "        for i in range(num_layers, 0, -1):\n",
    "            \n",
    "            if i == 1:\n",
    "                if first_kernel == None: first_kernel = 2\n",
    "                self.cnn_layers.append(nn.ConvTranspose1d(input_size * 2, input_size, kernel_size=first_kernel, stride=2, padding=0))\n",
    "                self.cnn_layers.append(nn.ReLU(True))\n",
    "            else:                \n",
    "                self.cnn_layers.append(nn.ConvTranspose1d(input_size * 2 * i, input_size * 2 * (i-1), kernel_size=2, stride=2, padding=0))\n",
    "                self.cnn_layers.append(nn.ReLU(True))\n",
    "                self.cnn_layers.append(BatchNorm1d(input_size * 2 * (i-1)))\n",
    "                \n",
    "        \n",
    "        def forward(self, z):\n",
    "            x = self.decoder_lin(z)  \n",
    "\n",
    "            x = self.cnn_layers(x.view(x.shape[0],self.input_size,1))\n",
    "\n",
    "        return x[:,:,0]  "
   ]
  },
  {
   "cell_type": "code",
   "execution_count": 3,
   "id": "72748e7e",
   "metadata": {},
   "outputs": [
    {
     "name": "stdout",
     "output_type": "stream",
     "text": [
      "5\n",
      "4\n",
      "3\n",
      "2\n"
     ]
    }
   ],
   "source": [
    "class LongShort_TCVAE_Decoder(nn.Module):\n",
    "    def __init__(self, input_size, hidden_size, num_layers, latent_dims, L = 30, first_kernel = None):\n",
    "        super(LongShort_TCVAE_Decoder, self).__init__()  \n",
    "        \n",
    "        self.longshort_decoder = TCVAE_Decoder(input_size, hidden_size, num_layers, 2 * latent_dims, L, first_kernel)\n",
    "        \n",
    "    def forward(self, z):\n",
    "        return self.longshort_decoder(z)"
   ]
  },
  {
   "cell_type": "code",
   "execution_count": null,
   "id": "a4727c81",
   "metadata": {},
   "outputs": [],
   "source": []
  }
 ],
 "metadata": {
  "kernelspec": {
   "display_name": "Python 3 (ipykernel)",
   "language": "python",
   "name": "python3"
  },
  "language_info": {
   "codemirror_mode": {
    "name": "ipython",
    "version": 3
   },
   "file_extension": ".py",
   "mimetype": "text/x-python",
   "name": "python",
   "nbconvert_exporter": "python",
   "pygments_lexer": "ipython3",
   "version": "3.10.8"
  }
 },
 "nbformat": 4,
 "nbformat_minor": 5
}
