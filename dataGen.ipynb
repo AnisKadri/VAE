{
 "cells": [
  {
   "cell_type": "code",
   "execution_count": 269,
   "id": "de1b9c8c",
   "metadata": {},
   "outputs": [],
   "source": [
    "import numpy as np\n",
    "import matplotlib.pyplot as plt\n",
    "np.random.seed(10)"
   ]
  },
  {
   "cell_type": "code",
   "execution_count": 808,
   "id": "3a5a53ef",
   "metadata": {},
   "outputs": [],
   "source": [
    "# all parameters for generating the time series should be configured in this cell\n",
    "time = 20\n",
    "nchannels = 2\n",
    "dims = 1\n",
    "effects = {\n",
    "    \"Pulse\": {\n",
    "        \"channel\":[0,1, 0, 2],\n",
    "        \"index\":[50, 10, 15, 70],\n",
    "        \"scale\":[3, -5, 2, 1.5]\n",
    "        },\n",
    "    \"Trend\": {\n",
    "        \"channel\":[2, 1],\n",
    "        \"index\":[20, 50],\n",
    "        \"slope\":[15, -10]\n",
    "        }\n",
    "    }\n",
    "mu = [15, 20, 50]\n",
    "cov = np.diag([1, 0.5, 3])"
   ]
  },
  {
   "cell_type": "code",
   "execution_count": 809,
   "id": "abaff330",
   "metadata": {},
   "outputs": [],
   "source": [
    "class Gen():\n",
    "    def __init__(self, time, nchannels= 2, dims = 1, effects = effects, mu = mu, cov = cov):              \n",
    "        # get the parameters\n",
    "        self.n = nchannels\n",
    "        self.dims = dims\n",
    "        self.effects = effects\n",
    "        self.mu = mu\n",
    "        self.cov = cov\n",
    "        \n",
    "        # generate the time axis\n",
    "        self.t = np.arange(time, step = 0.2)        \n",
    "        l = self.t.shape[0]\n",
    "        \n",
    "        # generate the different timeseries: multivariate normal dist\n",
    "        self.x = np.random.multivariate_normal(self.mu, self.cov, l)\n",
    "\n",
    "        # add effects (noise)\n",
    "        self.add_effects(self.effects)            \n",
    "    \n",
    "    #plots the generated data\n",
    "    def show(self):        \n",
    "        plt.plot(self.x)\n",
    "        plt.plot(self.trend.T * [1,-1], label=\"trend\")\n",
    "#         plt.plot(self.y.T, label=\"y\")\n",
    "#         plt.legend()\n",
    "        plt.grid(True)\n",
    "        \n",
    "    #returns the Time series and their parameters\n",
    "    def parameters(self):        \n",
    "        params = {\n",
    "            \"T\": self.t,\n",
    "            \"nchannels\":self.n,\n",
    "            \"effects\":self.effects,\n",
    "            \"mu\":self.mu,\n",
    "            \"cov\":self.cov\n",
    "        }\n",
    "        return self.x, params\n",
    "    \n",
    "    # loops through all the input effects and calls the respective function for each effect\n",
    "    def add_effects(self, effects):        \n",
    "        if self.effects is not None:\n",
    "            for effect, params in self.effects.items(): \n",
    "                if effect == \"Pulse\":\n",
    "                    self.add_pulse(params)\n",
    "                \n",
    "                if effect == \"Trend\":\n",
    "                    self.add_trend(params)\n",
    "    \n",
    "    # adds a pulse effect\n",
    "    def add_pulse(self, params):\n",
    "        # extract the parameters:\n",
    "            # channel: On which channel will the effect be applied.\n",
    "            # index: At which index will the effect be applied.\n",
    "            # scale: How strong is the Pulse. \n",
    "        channel = params[\"channel\"]\n",
    "        idx = params[\"index\"]\n",
    "        scale = params[\"scale\"]\n",
    "        \n",
    "        # generate the pulse\n",
    "        ground_val = self.x[idx, channel]\n",
    "        k = np.random.uniform(ground_val, ground_val*scale)\n",
    "\n",
    "        # add it to the channel\n",
    "        self.x[idx, channel] += k\n",
    "        \n",
    "    def ReLu(self, x):\n",
    "        return(np.maximum(0, x))\n",
    "    \n",
    "    def linear(self, x, a, b):\n",
    "        return (x.T*a - b).T\n",
    "    \n",
    "    def add_trend(self, params):\n",
    "        # extract the parameters:\n",
    "            # channel: On which channel will the effect be applied.\n",
    "            # index: At which index will the effect be applied.\n",
    "            # slope: define the slope of the shift. \n",
    "        channel = params[\"channel\"]\n",
    "        idx = params[\"index\"]\n",
    "        slope = params[\"slope\"]\n",
    "        \n",
    "        new_t = np.tile(self.t, (len(channel),1))\n",
    "        print(new_t.shape)\n",
    "        # generate the shift\n",
    "        linear = self.linear(new_t, np.abs(slope), idx)\n",
    "        print(linear.shape)\n",
    "        self.trend = self.ReLu(linear)\n",
    "        \n",
    "        print(self.trend.shape)\n",
    "        \n",
    "#         self.trend *= np.sign(slope)\n",
    "        # add it to the channel\n",
    "        self.x[:,channel] += self.trend.T * np.sign(slope)"
   ]
  },
  {
   "cell_type": "code",
   "execution_count": 810,
   "id": "880f053a",
   "metadata": {},
   "outputs": [
    {
     "name": "stdout",
     "output_type": "stream",
     "text": [
      "(2, 100)\n",
      "(2, 100)\n",
      "(2, 100)\n"
     ]
    }
   ],
   "source": [
    "X = Gen(time)\n",
    "x, params = X.parameters()"
   ]
  },
  {
   "cell_type": "code",
   "execution_count": 811,
   "id": "761806e1",
   "metadata": {},
   "outputs": [
    {
     "data": {
      "image/png": "[encoded data removed]",
      "text/plain": [
       "<Figure size 640x480 with 1 Axes>"
      ]
     },
     "metadata": {},
     "output_type": "display_data"
    }
   ],
   "source": [
    "X.show()"
   ]
  },
  {
   "cell_type": "code",
   "execution_count": 182,
   "id": "28120d1c",
   "metadata": {},
   "outputs": [
    {
     "data": {
      "text/plain": [
       "(10, 2)"
      ]
     },
     "execution_count": 182,
     "metadata": {},
     "output_type": "execute_result"
    }
   ],
   "source": [
    "x = np.random.multivariate_normal(np.array([0,5]).T, np.diag([1,1]), size=(10))\n",
    "x.shape\n",
    "# plt.plot(x)"
   ]
  },
  {
   "cell_type": "code",
   "execution_count": 173,
   "id": "98be260d",
   "metadata": {},
   "outputs": [
    {
     "data": {
      "text/plain": [
       "array([[[ 0.31935642,  5.4609029 ,  9.78421011],\n",
       "        [ 0.98907246,  5.31475378, 12.46765106],\n",
       "        [-1.50832149,  5.62060066,  8.95486746],\n",
       "        [-0.79800882,  6.98508459, 11.74481415],\n",
       "        [-1.85618548,  4.7772263 ,  9.93415215],\n",
       "        [-2.13171211,  4.95116949, 10.39334122],\n",
       "        [ 0.21726515,  3.00560623, 11.10770823],\n",
       "        [ 0.24454398,  4.93808797,  9.24610704],\n",
       "        [ 0.71195902,  5.91826915,  9.51790686],\n",
       "        [ 0.08958761,  5.82699862,  8.04548788]],\n",
       "\n",
       "       [[ 0.11747566,  3.09254311,  9.07709074],\n",
       "        [ 0.46975143,  4.85563324,  9.59986165],\n",
       "        [-0.29598385,  5.84820861, 10.70683045],\n",
       "        [-0.78726893,  5.29294072,  9.52919275],\n",
       "        [ 2.40432561,  4.26064326,  9.68717124],\n",
       "        [-0.34888192,  4.56097376, 10.14110417],\n",
       "        [ 0.27304932,  3.38142925,  9.42688664],\n",
       "        [-1.32044755,  6.23620533, 12.46532508],\n",
       "        [ 1.38323223,  5.34623312, 11.02251611],\n",
       "        [ 0.16681027,  6.65671662, 10.66788961]],\n",
       "\n",
       "       [[-0.22994664,  3.87044881,  9.3600374 ],\n",
       "        [ 0.31383052,  3.77416402,  9.77820686],\n",
       "        [ 1.33992631,  5.02930971, 11.98538575],\n",
       "        [ 1.4471656 ,  4.71237059,  8.64068943],\n",
       "        [-0.04804133,  4.51921266, 10.37775309],\n",
       "        [ 1.61440797,  3.87689596,  9.61127205],\n",
       "        [ 0.33234995,  6.13497317, 10.51071441],\n",
       "        [ 0.41429764,  6.34454942, 10.49351532],\n",
       "        [-0.23700418,  5.05728515,  9.29292855],\n",
       "        [ 0.54666484,  5.94250041,  7.02040323]]])"
      ]
     },
     "execution_count": 173,
     "metadata": {},
     "output_type": "execute_result"
    }
   ],
   "source": [
    "np.random.multivariate_normal(np.array([0,5,10]).T, np.diag([1,1,1]), size=(3, 10))"
   ]
  },
  {
   "cell_type": "code",
   "execution_count": 408,
   "id": "3d865ff1",
   "metadata": {},
   "outputs": [
    {
     "data": {
      "image/png": "[encoded data removed]",
      "text/plain": [
       "<Figure size 640x480 with 1 Axes>"
      ]
     },
     "metadata": {},
     "output_type": "display_data"
    }
   ],
   "source": [
    "x = np.arange(-100, 100, 0.5)\n",
    "y = np.arange(0, 100, 0.25)\n",
    "def shift(x):\n",
    "    return(np.maximum(0, x))\n",
    "def linear(x, a, b):\n",
    "    return a*x+b\n",
    "linea = linear(x, 1, 25)\n",
    "shift = shift(linea)\n",
    "shifted = y+ shift\n",
    "plt.plot(x, y, label=\"y\")\n",
    "plt.plot(x, linea, label=\"linear\")\n",
    "plt.plot(x, shift, label=\"shift\")\n",
    "plt.plot(x, shifted, label=\"shifted\")\n",
    "plt.legend()\n",
    "plt.grid(True)"
   ]
  },
  {
   "cell_type": "code",
   "execution_count": 606,
   "id": "0c270f5e",
   "metadata": {},
   "outputs": [],
   "source": [
    "a = np.arange(100)\n",
    "# a = np.array(a,)"
   ]
  },
  {
   "cell_type": "code",
   "execution_count": 607,
   "id": "21773f0d",
   "metadata": {},
   "outputs": [
    {
     "data": {
      "text/plain": [
       "(100,)"
      ]
     },
     "execution_count": 607,
     "metadata": {},
     "output_type": "execute_result"
    }
   ],
   "source": [
    "a.shape"
   ]
  },
  {
   "cell_type": "code",
   "execution_count": 608,
   "id": "d9ffae33",
   "metadata": {},
   "outputs": [
    {
     "data": {
      "text/plain": [
       "(100,)"
      ]
     },
     "execution_count": 608,
     "metadata": {},
     "output_type": "execute_result"
    }
   ],
   "source": [
    "(a.T+5).shape"
   ]
  },
  {
   "cell_type": "code",
   "execution_count": 764,
   "id": "94f8ad6c",
   "metadata": {},
   "outputs": [],
   "source": [
    "a = [10 , 20, 30, 40, 50]\n",
    "a = np.tile(a,(3,1))\n",
    "b = [10, -100, 1000]"
   ]
  },
  {
   "cell_type": "code",
   "execution_count": 770,
   "id": "11648a6b",
   "metadata": {},
   "outputs": [
    {
     "data": {
      "text/plain": [
       "array([[10, 10, 10],\n",
       "       [20, 20, 20],\n",
       "       [30, 30, 30],\n",
       "       [40, 40, 40],\n",
       "       [50, 50, 50]])"
      ]
     },
     "execution_count": 770,
     "metadata": {},
     "output_type": "execute_result"
    }
   ],
   "source": [
    "a"
   ]
  },
  {
   "cell_type": "code",
   "execution_count": 771,
   "id": "bf588304",
   "metadata": {},
   "outputs": [],
   "source": [
    "d = np.sign(b)"
   ]
  },
  {
   "cell_type": "code",
   "execution_count": 772,
   "id": "13320cb1",
   "metadata": {},
   "outputs": [
    {
     "ename": "ValueError",
     "evalue": "operands could not be broadcast together with shapes (3,5) (3,) ",
     "output_type": "error",
     "traceback": [
      "\u001b[0;31m---------------------------------------------------------------------------\u001b[0m",
      "\u001b[0;31mValueError\u001b[0m                                Traceback (most recent call last)",
      "Cell \u001b[0;32mIn[772], line 1\u001b[0m\n\u001b[0;32m----> 1\u001b[0m c \u001b[38;5;241m=\u001b[39m (\u001b[43ma\u001b[49m\u001b[38;5;241;43m.\u001b[39;49m\u001b[43mT\u001b[49m\u001b[38;5;241;43m*\u001b[39;49m\u001b[43mb\u001b[49m\u001b[38;5;241m+\u001b[39mb)\u001b[38;5;241m.\u001b[39mT\n\u001b[1;32m      2\u001b[0m a\u001b[38;5;241m=\u001b[39m a\u001b[38;5;241m.\u001b[39mT\n\u001b[1;32m      3\u001b[0m c\n",
      "\u001b[0;31mValueError\u001b[0m: operands could not be broadcast together with shapes (3,5) (3,) "
     ]
    }
   ],
   "source": [
    "c = (a.T*b+b).T\n",
    "a= a.T\n",
    "c"
   ]
  },
  {
   "cell_type": "code",
   "execution_count": 732,
   "id": "e8785738",
   "metadata": {},
   "outputs": [
    {
     "data": {
      "text/plain": [
       "array([[10, 10],\n",
       "       [20, 20],\n",
       "       [30, 30],\n",
       "       [40, 40],\n",
       "       [50, 50]])"
      ]
     },
     "execution_count": 732,
     "metadata": {},
     "output_type": "execute_result"
    }
   ],
   "source": [
    "a[:,[2,1]]"
   ]
  },
  {
   "cell_type": "code",
   "execution_count": 734,
   "id": "b1de5aae",
   "metadata": {},
   "outputs": [],
   "source": [
    "a[:,[2,1]] += c.T"
   ]
  },
  {
   "cell_type": "code",
   "execution_count": 735,
   "id": "d0c98b11",
   "metadata": {},
   "outputs": [
    {
     "data": {
      "text/plain": [
       "array([[   10, 11010,  1110],\n",
       "       [   20, 21020,  2120],\n",
       "       [   30, 31030,  3130],\n",
       "       [   40, 41040,  4140],\n",
       "       [   50, 51050,  5150]])"
      ]
     },
     "execution_count": 735,
     "metadata": {},
     "output_type": "execute_result"
    }
   ],
   "source": [
    "a"
   ]
  },
  {
   "cell_type": "code",
   "execution_count": 768,
   "id": "9863e268",
   "metadata": {},
   "outputs": [
    {
     "ename": "ValueError",
     "evalue": "operands could not be broadcast together with shapes (2,5) (3,) ",
     "output_type": "error",
     "traceback": [
      "\u001b[0;31m---------------------------------------------------------------------------\u001b[0m",
      "\u001b[0;31mValueError\u001b[0m                                Traceback (most recent call last)",
      "Cell \u001b[0;32mIn[768], line 1\u001b[0m\n\u001b[0;32m----> 1\u001b[0m \u001b[43mc\u001b[49m\u001b[43m \u001b[49m\u001b[38;5;241;43m*\u001b[39;49m\u001b[43md\u001b[49m\n",
      "\u001b[0;31mValueError\u001b[0m: operands could not be broadcast together with shapes (2,5) (3,) "
     ]
    }
   ],
   "source": [
    "c *d"
   ]
  },
  {
   "cell_type": "code",
   "execution_count": null,
   "id": "92f898f5",
   "metadata": {},
   "outputs": [],
   "source": []
  }
 ],
 "metadata": {
  "kernelspec": {
   "display_name": "Python 3 (ipykernel)",
   "language": "python",
   "name": "python3"
  },
  "language_info": {
   "codemirror_mode": {
    "name": "ipython",
    "version": 3
   },
   "file_extension": ".py",
   "mimetype": "text/x-python",
   "name": "python",
   "nbconvert_exporter": "python",
   "pygments_lexer": "ipython3",
   "version": "3.10.8"
  }
 },
 "nbformat": 4,
 "nbformat_minor": 5
}
