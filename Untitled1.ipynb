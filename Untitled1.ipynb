{
 "cells": [
  {
   "cell_type": "code",
   "execution_count": null,
   "id": "c86aa72d",
   "metadata": {},
   "outputs": [],
   "source": [
    "import numpy as np\n",
    "import matplotlib.pyplot as plt\n",
    "from matplotlib.widgets import Slider\n"
   ]
  },
  {
   "cell_type": "code",
   "execution_count": null,
   "id": "b18b210f",
   "metadata": {},
   "outputs": [],
   "source": [
    "def compare(dataset, model):\n",
    "    model.eval()\n",
    "    rec = []\n",
    "    x = []\n",
    "    with torch.no_grad():\n",
    "        for i, data in enumerate(dataset):\n",
    "            x_rec, mu, logvar = model(data)\n",
    "            z = model.reparametrization_trick(mu, logvar)\n",
    "\n",
    "            x.extend(data[:,:,0].detach().numpy())\n",
    "            rec.extend(x_rec[:].detach().numpy())\n",
    "        \n",
    "    plt.plot(rec, \"r--\")\n",
    "    plt.plot(x[:], \"b-\")\n",
    "    plt.ylim(0,100)\n",
    "    plt.grid(True)"
   ]
  },
  {
   "cell_type": "code",
   "execution_count": null,
   "id": "1f3ae53c",
   "metadata": {},
   "outputs": [],
   "source": [
    "def experiment(data, model):\n",
    "    x = []\n",
    "    z = []\n",
    "    rec = []\n",
    "    with torch.no_grad():\n",
    "        for i, data in enumerate(data):\n",
    "            x_rec, mu, logvar = model(data)\n",
    "            Z = v.reparametrization_trick(mu, logvar)\n",
    "\n",
    "            x.extend(data[:, :, 0].detach().numpy())\n",
    "            z.extend(Z[:].detach().numpy())\n",
    "            rec.extend(x_rec[:].detach().numpy())\n",
    "\n",
    "    x = np.array(x)\n",
    "    z = np.array(z)\n",
    "    rec = np.array(rec)\n",
    "\n",
    "    # Create a figure and axis object\n",
    "    fig, axs = plt.subplots(2, 1, gridspec_kw={'height_ratios': [1, 2]})\n",
    "\n",
    "    # Plot the initial data\n",
    "    ax1 = axs[0]\n",
    "    ax2 = axs[1]\n",
    "    line1 = ax1.plot(x, \"b\")\n",
    "    line2 = ax1.plot(rec, \"r\")\n",
    "    line3 = ax2.plot(z, \"g\")\n",
    "\n",
    "    sliders = []\n",
    "    slider_axs = []\n",
    "\n",
    "    # Add a slider widget for variable 1\n",
    "    for i in range(z.shape[1]):\n",
    "        slider_axs.append(plt.axes([0.1, (0.5 - 0.05 * i), 0.8, 0.03]))\n",
    "        sliders.append(Slider(slider_axs[i], r'$Z_{}$'.format(i), -10, 10, valinit=z[-1, i]))\n",
    "\n",
    "        # Define a function to update the plot\n",
    "\n",
    "    def update(val, idx):\n",
    "\n",
    "        # for i in range(z.shape[1]):\n",
    "        z[:, idx] = sliders[idx].val\n",
    "        rec = v.decoder(torch.Tensor(z)).detach().numpy()\n",
    "\n",
    "        for channel, line in enumerate(line2):\n",
    "            line.set_ydata(rec[:, channel])\n",
    "        line3[idx].set_ydata(z[:, idx])\n",
    "\n",
    "        fig.canvas.draw_idle()\n",
    "\n",
    "    # Connect the sliders to the update function\n",
    "    for i, slider in enumerate(sliders):\n",
    "        slider.on_changed(lambda val, idx=i: update(val, idx))\n",
    "\n",
    "    # Show the plot\n",
    "    plt.show()"
   ]
  }
 ],
 "metadata": {
  "kernelspec": {
   "display_name": "Python 3 (ipykernel)",
   "language": "python",
   "name": "python3"
  },
  "language_info": {
   "codemirror_mode": {
    "name": "ipython",
    "version": 3
   },
   "file_extension": ".py",
   "mimetype": "text/x-python",
   "name": "python",
   "nbconvert_exporter": "python",
   "pygments_lexer": "ipython3",
   "version": "3.10.9"
  }
 },
 "nbformat": 4,
 "nbformat_minor": 5
}
